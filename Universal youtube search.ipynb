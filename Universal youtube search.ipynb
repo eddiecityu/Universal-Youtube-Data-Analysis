{
 "cells": [
  {
   "cell_type": "code",
   "execution_count": 6,
   "metadata": {
    "collapsed": true
   },
   "outputs": [],
   "source": [
    "import pandas as pd\n",
    "import matplotlib.pyplot as plt\n",
    "\n",
    "import seaborn as sns\n",
    "from youtube_data import youtube_search\n",
    "from ipywidgets import widgets"
   ]
  },
  {
   "cell_type": "code",
   "execution_count": 7,
   "metadata": {},
   "outputs": [
    {
     "name": "stdout",
     "output_type": "stream",
     "text": [
      "What is the keyword of the youtube?胡定欣j\n"
     ]
    },
    {
     "data": {
      "text/plain": [
       "dict_keys(['tags', 'channelId', 'channelTitle', 'categoryId', 'title', 'videoId', 'viewCount', 'likeCount', 'dislikeCount', 'commentCount', 'favoriteCount'])"
      ]
     },
     "execution_count": 7,
     "metadata": {},
     "output_type": "execute_result"
    }
   ],
   "source": [
    "youtube_name = input(\"What is the keyword of the youtube?\")\n",
    "test = youtube_search(youtube_name)\n",
    "test.keys()"
   ]
  },
  {
   "cell_type": "code",
   "execution_count": 8,
   "metadata": {},
   "outputs": [
    {
     "data": {
      "text/plain": [
       "['10', '46', '0', '3', '31']"
      ]
     },
     "execution_count": 8,
     "metadata": {},
     "output_type": "execute_result"
    }
   ],
   "source": [
    "test['commentCount'][:5]"
   ]
  },
  {
   "cell_type": "code",
   "execution_count": 9,
   "metadata": {},
   "outputs": [
    {
     "data": {
      "text/html": [
       "<div>\n",
       "<style>\n",
       "    .dataframe thead tr:only-child th {\n",
       "        text-align: right;\n",
       "    }\n",
       "\n",
       "    .dataframe thead th {\n",
       "        text-align: left;\n",
       "    }\n",
       "\n",
       "    .dataframe tbody tr th {\n",
       "        vertical-align: top;\n",
       "    }\n",
       "</style>\n",
       "<table border=\"1\" class=\"dataframe\">\n",
       "  <thead>\n",
       "    <tr style=\"text-align: right;\">\n",
       "      <th></th>\n",
       "      <th>categoryId</th>\n",
       "      <th>channelId</th>\n",
       "      <th>channelTitle</th>\n",
       "      <th>commentCount</th>\n",
       "      <th>dislikeCount</th>\n",
       "      <th>favoriteCount</th>\n",
       "      <th>likeCount</th>\n",
       "      <th>tags</th>\n",
       "      <th>title</th>\n",
       "      <th>videoId</th>\n",
       "      <th>viewCount</th>\n",
       "    </tr>\n",
       "  </thead>\n",
       "  <tbody>\n",
       "    <tr>\n",
       "      <th>0</th>\n",
       "      <td>22</td>\n",
       "      <td>UCgKHjRjGfmRo_y7dBMFq0NQ</td>\n",
       "      <td>羽田若希</td>\n",
       "      <td>10</td>\n",
       "      <td>29</td>\n",
       "      <td>0</td>\n",
       "      <td>111</td>\n",
       "      <td>[胡定欣, J圖, 寫真, 性感, 強姦, 強暴, 床戲, 超清]</td>\n",
       "      <td>胡定欣J圖集 終極超清版</td>\n",
       "      <td>lcPaFD3xD9c</td>\n",
       "      <td>90261</td>\n",
       "    </tr>\n",
       "    <tr>\n",
       "      <th>1</th>\n",
       "      <td>24</td>\n",
       "      <td>UCeFbWIhDj_tjTOTe1P3cVHA</td>\n",
       "      <td>八八通GossipGossip</td>\n",
       "      <td>46</td>\n",
       "      <td>10</td>\n",
       "      <td>0</td>\n",
       "      <td>197</td>\n",
       "      <td>[gossipgossip, 全城放狗, 八八通, 2018, 宮心計2深宮計, 陳煒, 胡...</td>\n",
       "      <td>扮鬼上身好戲   陳煒性感都掂</td>\n",
       "      <td>mK7P2gQabW8</td>\n",
       "      <td>38201</td>\n",
       "    </tr>\n",
       "    <tr>\n",
       "      <th>2</th>\n",
       "      <td>22</td>\n",
       "      <td>UC2Ybfuz0i0Fm7XUAdGFZ_Jg</td>\n",
       "      <td>My Tube</td>\n",
       "      <td>0</td>\n",
       "      <td>0</td>\n",
       "      <td>0</td>\n",
       "      <td>16</td>\n",
       "      <td>[黄宗泽, 胡定欣]</td>\n",
       "      <td>黄宗泽 胡定欣</td>\n",
       "      <td>1A5vvuH-xvg</td>\n",
       "      <td>4103</td>\n",
       "    </tr>\n",
       "    <tr>\n",
       "      <th>3</th>\n",
       "      <td>22</td>\n",
       "      <td>UCMkJ1dZrVMXVE2O2YjsbVag</td>\n",
       "      <td>Tva Nouvelles HK</td>\n",
       "      <td>3</td>\n",
       "      <td>29</td>\n",
       "      <td>0</td>\n",
       "      <td>38</td>\n",
       "      <td>[新聞, 了緋聞, TVB的女演員, 香港明星, 香港新聞, 香港01, 今日頭條, 香港媒...</td>\n",
       "      <td>【同盟】胡定欣色誘綁匪出絶招　腿張開演技大爆發</td>\n",
       "      <td>EJlIovRFnMs</td>\n",
       "      <td>30010</td>\n",
       "    </tr>\n",
       "    <tr>\n",
       "      <th>4</th>\n",
       "      <td>22</td>\n",
       "      <td>UCuHRgs_-XFGxfozMhM-ihCQ</td>\n",
       "      <td>Esquire HK</td>\n",
       "      <td>31</td>\n",
       "      <td>44</td>\n",
       "      <td>0</td>\n",
       "      <td>536</td>\n",
       "      <td>[胡定欣, Nancy Wu, EsquireTV, EsquireHk, Esquire ...</td>\n",
       "      <td>Nancy Wu 胡定欣 on Esquire TV</td>\n",
       "      <td>e8fOhAxF1mo</td>\n",
       "      <td>172591</td>\n",
       "    </tr>\n",
       "  </tbody>\n",
       "</table>\n",
       "</div>"
      ],
      "text/plain": [
       "  categoryId                 channelId      channelTitle commentCount  \\\n",
       "0         22  UCgKHjRjGfmRo_y7dBMFq0NQ              羽田若希           10   \n",
       "1         24  UCeFbWIhDj_tjTOTe1P3cVHA   八八通GossipGossip           46   \n",
       "2         22  UC2Ybfuz0i0Fm7XUAdGFZ_Jg           My Tube            0   \n",
       "3         22  UCMkJ1dZrVMXVE2O2YjsbVag  Tva Nouvelles HK            3   \n",
       "4         22  UCuHRgs_-XFGxfozMhM-ihCQ        Esquire HK           31   \n",
       "\n",
       "  dislikeCount favoriteCount likeCount  \\\n",
       "0           29             0       111   \n",
       "1           10             0       197   \n",
       "2            0             0        16   \n",
       "3           29             0        38   \n",
       "4           44             0       536   \n",
       "\n",
       "                                                tags  \\\n",
       "0                  [胡定欣, J圖, 寫真, 性感, 強姦, 強暴, 床戲, 超清]   \n",
       "1  [gossipgossip, 全城放狗, 八八通, 2018, 宮心計2深宮計, 陳煒, 胡...   \n",
       "2                                         [黄宗泽, 胡定欣]   \n",
       "3  [新聞, 了緋聞, TVB的女演員, 香港明星, 香港新聞, 香港01, 今日頭條, 香港媒...   \n",
       "4  [胡定欣, Nancy Wu, EsquireTV, EsquireHk, Esquire ...   \n",
       "\n",
       "                        title      videoId viewCount  \n",
       "0                胡定欣J圖集 終極超清版  lcPaFD3xD9c     90261  \n",
       "1             扮鬼上身好戲   陳煒性感都掂  mK7P2gQabW8     38201  \n",
       "2                     黄宗泽 胡定欣  1A5vvuH-xvg      4103  \n",
       "3     【同盟】胡定欣色誘綁匪出絶招　腿張開演技大爆發  EJlIovRFnMs     30010  \n",
       "4  Nancy Wu 胡定欣 on Esquire TV  e8fOhAxF1mo    172591  "
      ]
     },
     "execution_count": 9,
     "metadata": {},
     "output_type": "execute_result"
    }
   ],
   "source": [
    "df = pd.DataFrame(data=test)\n",
    "df.head()"
   ]
  },
  {
   "cell_type": "code",
   "execution_count": 10,
   "metadata": {
    "collapsed": true
   },
   "outputs": [],
   "source": [
    "import json as json"
   ]
  },
  {
   "cell_type": "code",
   "execution_count": 3,
   "metadata": {
    "collapsed": true
   },
   "outputs": [],
   "source": [
    "def to_json(df,filename):\n",
    "\n",
    "    d = [ \n",
    "\n",
    "        dict([\n",
    "\n",
    "            (colname, row[i]) \n",
    "\n",
    "            for i,colname in enumerate(df.columns)\n",
    "\n",
    "        ])\n",
    "\n",
    "        for row in df.values\n",
    "\n",
    "    ]\n",
    "\n",
    "    return json.dump(d, open(filename + '.json', 'w'))"
   ]
  },
  {
   "cell_type": "code",
   "execution_count": 4,
   "metadata": {},
   "outputs": [
    {
     "ename": "NameError",
     "evalue": "name 'df' is not defined",
     "output_type": "error",
     "traceback": [
      "\u001b[1;31m---------------------------------------------------------------------------\u001b[0m",
      "\u001b[1;31mNameError\u001b[0m                                 Traceback (most recent call last)",
      "\u001b[1;32m<ipython-input-4-d20d303c7d9a>\u001b[0m in \u001b[0;36m<module>\u001b[1;34m()\u001b[0m\n\u001b[1;32m----> 1\u001b[1;33m \u001b[0mto_json\u001b[0m\u001b[1;33m(\u001b[0m\u001b[0mdf\u001b[0m\u001b[1;33m,\u001b[0m \u001b[1;34m'my_filename'\u001b[0m\u001b[1;33m)\u001b[0m\u001b[1;33m\u001b[0m\u001b[0m\n\u001b[0m",
      "\u001b[1;31mNameError\u001b[0m: name 'df' is not defined"
     ]
    }
   ],
   "source": [
    "to_json(df, 'my_filename')"
   ]
  },
  {
   "cell_type": "code",
   "execution_count": 12,
   "metadata": {},
   "outputs": [
    {
     "data": {
      "text/html": [
       "<div>\n",
       "<style>\n",
       "    .dataframe thead tr:only-child th {\n",
       "        text-align: right;\n",
       "    }\n",
       "\n",
       "    .dataframe thead th {\n",
       "        text-align: left;\n",
       "    }\n",
       "\n",
       "    .dataframe tbody tr th {\n",
       "        vertical-align: top;\n",
       "    }\n",
       "</style>\n",
       "<table border=\"1\" class=\"dataframe\">\n",
       "  <thead>\n",
       "    <tr style=\"text-align: right;\">\n",
       "      <th></th>\n",
       "      <th>Title</th>\n",
       "      <th>viewCount</th>\n",
       "      <th>channelTitle</th>\n",
       "      <th>commentCount</th>\n",
       "      <th>likeCount</th>\n",
       "      <th>dislikeCount</th>\n",
       "      <th>tags</th>\n",
       "      <th>favoriteCount</th>\n",
       "      <th>videoId</th>\n",
       "      <th>channelId</th>\n",
       "      <th>categoryId</th>\n",
       "    </tr>\n",
       "  </thead>\n",
       "  <tbody>\n",
       "    <tr>\n",
       "      <th>0</th>\n",
       "      <td>胡定欣J圖集 終極超清版</td>\n",
       "      <td>90261</td>\n",
       "      <td>羽田若希</td>\n",
       "      <td>10</td>\n",
       "      <td>111</td>\n",
       "      <td>29</td>\n",
       "      <td>[胡定欣, J圖, 寫真, 性感, 強姦, 強暴, 床戲, 超清]</td>\n",
       "      <td>0</td>\n",
       "      <td>lcPaFD3xD9c</td>\n",
       "      <td>UCgKHjRjGfmRo_y7dBMFq0NQ</td>\n",
       "      <td>22</td>\n",
       "    </tr>\n",
       "    <tr>\n",
       "      <th>1</th>\n",
       "      <td>扮鬼上身好戲   陳煒性感都掂</td>\n",
       "      <td>38201</td>\n",
       "      <td>八八通GossipGossip</td>\n",
       "      <td>46</td>\n",
       "      <td>197</td>\n",
       "      <td>10</td>\n",
       "      <td>[gossipgossip, 全城放狗, 八八通, 2018, 宮心計2深宮計, 陳煒, 胡...</td>\n",
       "      <td>0</td>\n",
       "      <td>mK7P2gQabW8</td>\n",
       "      <td>UCeFbWIhDj_tjTOTe1P3cVHA</td>\n",
       "      <td>24</td>\n",
       "    </tr>\n",
       "    <tr>\n",
       "      <th>2</th>\n",
       "      <td>黄宗泽 胡定欣</td>\n",
       "      <td>4103</td>\n",
       "      <td>My Tube</td>\n",
       "      <td>0</td>\n",
       "      <td>16</td>\n",
       "      <td>0</td>\n",
       "      <td>[黄宗泽, 胡定欣]</td>\n",
       "      <td>0</td>\n",
       "      <td>1A5vvuH-xvg</td>\n",
       "      <td>UC2Ybfuz0i0Fm7XUAdGFZ_Jg</td>\n",
       "      <td>22</td>\n",
       "    </tr>\n",
       "    <tr>\n",
       "      <th>3</th>\n",
       "      <td>【同盟】胡定欣色誘綁匪出絶招　腿張開演技大爆發</td>\n",
       "      <td>30010</td>\n",
       "      <td>Tva Nouvelles HK</td>\n",
       "      <td>3</td>\n",
       "      <td>38</td>\n",
       "      <td>29</td>\n",
       "      <td>[新聞, 了緋聞, TVB的女演員, 香港明星, 香港新聞, 香港01, 今日頭條, 香港媒...</td>\n",
       "      <td>0</td>\n",
       "      <td>EJlIovRFnMs</td>\n",
       "      <td>UCMkJ1dZrVMXVE2O2YjsbVag</td>\n",
       "      <td>22</td>\n",
       "    </tr>\n",
       "    <tr>\n",
       "      <th>4</th>\n",
       "      <td>Nancy Wu 胡定欣 on Esquire TV</td>\n",
       "      <td>172591</td>\n",
       "      <td>Esquire HK</td>\n",
       "      <td>31</td>\n",
       "      <td>536</td>\n",
       "      <td>44</td>\n",
       "      <td>[胡定欣, Nancy Wu, EsquireTV, EsquireHk, Esquire ...</td>\n",
       "      <td>0</td>\n",
       "      <td>e8fOhAxF1mo</td>\n",
       "      <td>UCuHRgs_-XFGxfozMhM-ihCQ</td>\n",
       "      <td>22</td>\n",
       "    </tr>\n",
       "  </tbody>\n",
       "</table>\n",
       "</div>"
      ],
      "text/plain": [
       "                        Title viewCount      channelTitle commentCount  \\\n",
       "0                胡定欣J圖集 終極超清版     90261              羽田若希           10   \n",
       "1             扮鬼上身好戲   陳煒性感都掂     38201   八八通GossipGossip           46   \n",
       "2                     黄宗泽 胡定欣      4103           My Tube            0   \n",
       "3     【同盟】胡定欣色誘綁匪出絶招　腿張開演技大爆發     30010  Tva Nouvelles HK            3   \n",
       "4  Nancy Wu 胡定欣 on Esquire TV    172591        Esquire HK           31   \n",
       "\n",
       "  likeCount dislikeCount                                               tags  \\\n",
       "0       111           29                  [胡定欣, J圖, 寫真, 性感, 強姦, 強暴, 床戲, 超清]   \n",
       "1       197           10  [gossipgossip, 全城放狗, 八八通, 2018, 宮心計2深宮計, 陳煒, 胡...   \n",
       "2        16            0                                         [黄宗泽, 胡定欣]   \n",
       "3        38           29  [新聞, 了緋聞, TVB的女演員, 香港明星, 香港新聞, 香港01, 今日頭條, 香港媒...   \n",
       "4       536           44  [胡定欣, Nancy Wu, EsquireTV, EsquireHk, Esquire ...   \n",
       "\n",
       "  favoriteCount      videoId                 channelId categoryId  \n",
       "0             0  lcPaFD3xD9c  UCgKHjRjGfmRo_y7dBMFq0NQ         22  \n",
       "1             0  mK7P2gQabW8  UCeFbWIhDj_tjTOTe1P3cVHA         24  \n",
       "2             0  1A5vvuH-xvg  UC2Ybfuz0i0Fm7XUAdGFZ_Jg         22  \n",
       "3             0  EJlIovRFnMs  UCMkJ1dZrVMXVE2O2YjsbVag         22  \n",
       "4             0  e8fOhAxF1mo  UCuHRgs_-XFGxfozMhM-ihCQ         22  "
      ]
     },
     "execution_count": 12,
     "metadata": {},
     "output_type": "execute_result"
    }
   ],
   "source": [
    "df1 = df[['title','viewCount','channelTitle','commentCount','likeCount','dislikeCount','tags','favoriteCount','videoId','channelId','categoryId']]\n",
    "df1.columns = ['Title','viewCount','channelTitle','commentCount','likeCount','dislikeCount','tags','favoriteCount','videoId','channelId','categoryId']\n",
    "df1.head()"
   ]
  },
  {
   "cell_type": "code",
   "execution_count": 13,
   "metadata": {},
   "outputs": [
    {
     "name": "stdout",
     "output_type": "stream",
     "text": [
      "What channel do you want to search?羽田若希\n"
     ]
    },
    {
     "data": {
      "text/html": [
       "<div>\n",
       "<style>\n",
       "    .dataframe thead tr:only-child th {\n",
       "        text-align: right;\n",
       "    }\n",
       "\n",
       "    .dataframe thead th {\n",
       "        text-align: left;\n",
       "    }\n",
       "\n",
       "    .dataframe tbody tr th {\n",
       "        vertical-align: top;\n",
       "    }\n",
       "</style>\n",
       "<table border=\"1\" class=\"dataframe\">\n",
       "  <thead>\n",
       "    <tr style=\"text-align: right;\">\n",
       "      <th></th>\n",
       "      <th>Title</th>\n",
       "      <th>viewCount</th>\n",
       "      <th>channelTitle</th>\n",
       "      <th>commentCount</th>\n",
       "      <th>likeCount</th>\n",
       "      <th>dislikeCount</th>\n",
       "      <th>tags</th>\n",
       "      <th>favoriteCount</th>\n",
       "      <th>videoId</th>\n",
       "      <th>channelId</th>\n",
       "      <th>categoryId</th>\n",
       "    </tr>\n",
       "  </thead>\n",
       "  <tbody>\n",
       "    <tr>\n",
       "      <th>0</th>\n",
       "      <td>胡定欣J圖集 終極超清版</td>\n",
       "      <td>90261</td>\n",
       "      <td>羽田若希</td>\n",
       "      <td>10</td>\n",
       "      <td>111</td>\n",
       "      <td>29</td>\n",
       "      <td>[胡定欣, J圖, 寫真, 性感, 強姦, 強暴, 床戲, 超清]</td>\n",
       "      <td>0</td>\n",
       "      <td>lcPaFD3xD9c</td>\n",
       "      <td>UCgKHjRjGfmRo_y7dBMFq0NQ</td>\n",
       "      <td>22</td>\n",
       "    </tr>\n",
       "  </tbody>\n",
       "</table>\n",
       "</div>"
      ],
      "text/plain": [
       "          Title viewCount channelTitle commentCount likeCount dislikeCount  \\\n",
       "0  胡定欣J圖集 終極超清版     90261         羽田若希           10       111           29   \n",
       "\n",
       "                                tags favoriteCount      videoId  \\\n",
       "0  [胡定欣, J圖, 寫真, 性感, 強姦, 強暴, 床戲, 超清]             0  lcPaFD3xD9c   \n",
       "\n",
       "                  channelId categoryId  \n",
       "0  UCgKHjRjGfmRo_y7dBMFq0NQ         22  "
      ]
     },
     "execution_count": 13,
     "metadata": {},
     "output_type": "execute_result"
    }
   ],
   "source": [
    "youtube_channel = input(\"What channel do you want to search?\")\n",
    "mask = df1[\"channelTitle\"] == youtube_channel\n",
    "df1[mask]"
   ]
  },
  {
   "cell_type": "code",
   "execution_count": null,
   "metadata": {
    "collapsed": true
   },
   "outputs": [],
   "source": [
    "import numpy as np\n",
    "numeric_dtype = ['viewCount','commentCount','likeCount','dislikeCount','favoriteCount']\n",
    "for i in numeric_dtype:\n",
    "    df1[i] = df[i].astype(int)"
   ]
  },
  {
   "cell_type": "code",
   "execution_count": null,
   "metadata": {
    "collapsed": true
   },
   "outputs": [],
   "source": [
    "df1 = df1.sort_values(ascending=False,by='viewCount')\n",
    "plt.bar(range(df1.shape[0]),df1['viewCount'])\n",
    "plt.xticks(range(df1.shape[0]),df1['Title'],rotation=90)\n",
    "plt.ylabel('viewCount in 100 millions')\n",
    "\n",
    "plt.show()"
   ]
  },
  {
   "cell_type": "code",
   "execution_count": null,
   "metadata": {
    "collapsed": true
   },
   "outputs": [],
   "source": [
    "df1 = df1.sort_values(ascending=False,by='viewCount')\n",
    "plt.bar(range(df1.shape[0]),df1['commentCount'])\n",
    "plt.xticks(range(df1.shape[0]),df1['Title'],rotation=90)\n",
    "plt.ylabel('commentCount in 100 millions')\n",
    "\n",
    "plt.show()"
   ]
  },
  {
   "cell_type": "code",
   "execution_count": null,
   "metadata": {
    "collapsed": true
   },
   "outputs": [],
   "source": []
  },
  {
   "cell_type": "code",
   "execution_count": null,
   "metadata": {
    "collapsed": true
   },
   "outputs": [],
   "source": []
  }
 ],
 "metadata": {
  "kernelspec": {
   "display_name": "Python 3",
   "language": "python",
   "name": "python3"
  },
  "language_info": {
   "codemirror_mode": {
    "name": "ipython",
    "version": 3
   },
   "file_extension": ".py",
   "mimetype": "text/x-python",
   "name": "python",
   "nbconvert_exporter": "python",
   "pygments_lexer": "ipython3",
   "version": "3.6.6"
  }
 },
 "nbformat": 4,
 "nbformat_minor": 2
}
